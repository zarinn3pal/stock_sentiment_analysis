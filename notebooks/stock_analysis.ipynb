{
 "cells": [
  {
   "cell_type": "code",
   "execution_count": 33,
   "id": "516b0fcb-b23c-4970-bb7c-ba29c2694610",
   "metadata": {},
   "outputs": [],
   "source": [
    "import tweepy\n",
    "import os\n",
    "from dotenv import load_dotenv\n",
    "from textblob import TextBlob\n",
    "import matplotlib.pyplot as plt\n",
    "import re"
   ]
  },
  {
   "cell_type": "code",
   "execution_count": 34,
   "id": "2bf36cf9-4911-4c03-a962-5f16db3ad8ab",
   "metadata": {},
   "outputs": [],
   "source": [
    "# Declare global variables and constants\n",
    "TWEET_COUNT = 1000\n",
    "api = \"\"\n",
    "sentiment_analysis = {}\n",
    "\n",
    "def refresh_sentiment_analysis():\n",
    "    global sentiment_analysis\n",
    "    sentiment_analysis[\"positive\"] = 0\n",
    "    sentiment_analysis[\"negative\"] = 0\n",
    "    sentiment_analysis[\"neutral\"] = 0\n",
    "    sentiment_analysis[\"polarity\"] = 0\n",
    "\n",
    "def refine_search_query(query):\n",
    "    return ' '.join(re.sub(\"(@[A-Za-z0-9]+)|([^0-9A-Za-z \\t]) | (\\w +:\\ / \\ / \\S +)\", \" \", query.strip()).split())"
   ]
  },
  {
   "cell_type": "code",
   "execution_count": 35,
   "id": "5b694e1c-6362-4e77-9d5e-62510c20944a",
   "metadata": {},
   "outputs": [],
   "source": [
    "#loads environment file and set up tweepy auth\n",
    "def initialize():\n",
    "    load_dotenv()\n",
    "    \n",
    "    auth = tweepy.OAuthHandler(os.getenv(\"CONSUMER_KEY\"), os.getenv(\"CONSUMER_SECRET\"))\n",
    "    auth.set_access_token(os.getenv(\"ACCESS_TOKEN\"), os.getenv(\"ACCESS_TOKEN_SECRET\"))\n",
    "    \n",
    "    global api\n",
    "\n",
    "    api = tweepy.API(auth)\n",
    "    "
   ]
  },
  {
   "cell_type": "code",
   "execution_count": 36,
   "id": "a065c966-06ea-4b44-89b4-d940676f6bd8",
   "metadata": {},
   "outputs": [],
   "source": [
    "def get_tweets(search_query, tweet_count):\n",
    "    return tweepy.Cursor(api.search, \n",
    "                               q=search_query,\n",
    "                              result_type='recent',\n",
    "                              lang='en',\n",
    "                              ).items(tweet_count)"
   ]
  },
  {
   "cell_type": "code",
   "execution_count": 37,
   "id": "a187b905-ca6b-46d8-85ae-538da320689e",
   "metadata": {},
   "outputs": [],
   "source": [
    "def get_percentage(part,whole):\n",
    "    return format(100* float(part)/float(whole), '.2f')\n",
    "def clean_tweets(tweet):\n",
    "    return ' '.join(re.sub(\"(@[A-Za-z0-9]+)|([^0-9A-Za-z \\t]) | (\\w +:\\ / \\ / \\S +)\", \" \", tweet).split())"
   ]
  },
  {
   "cell_type": "code",
   "execution_count": 38,
   "id": "a216713d-0927-4d19-bb19-d2d3a2181f06",
   "metadata": {},
   "outputs": [],
   "source": [
    "def analyze_tweets(search_query):\n",
    "    tweets = get_tweets(search_query, TWEET_COUNT)\n",
    "    \n",
    "    for tweet in tweets:\n",
    "        analysis = TextBlob(clean_tweets(tweet.text))\n",
    "        sentiment_analysis[\"polarity\"] += analysis.sentiment.polarity\n",
    "        \n",
    "        if (analysis.sentiment.polarity == 0):\n",
    "            sentiment_analysis[\"neutral\"] += 1\n",
    "        elif (analysis.sentiment.polarity < 0):\n",
    "            sentiment_analysis[\"negative\"] += 1\n",
    "        elif (analysis.sentiment.polarity > 0):\n",
    "            sentiment_analysis[\"positive\"] += 1"
   ]
  },
  {
   "cell_type": "code",
   "execution_count": 39,
   "id": "9bd06699-0536-4321-a152-d1507c7d1205",
   "metadata": {},
   "outputs": [],
   "source": [
    "def generate_report():\n",
    "    sentiment_analysis[\"neutral\"] = get_percentage(sentiment_analysis[\"neutral\"], TWEET_COUNT)\n",
    "    sentiment_analysis[\"negative\"] = get_percentage(sentiment_analysis[\"negative\"], TWEET_COUNT)\n",
    "    sentiment_analysis[\"positive\"] = get_percentage(sentiment_analysis[\"positive\"], TWEET_COUNT)\n",
    "    sentiment_analysis[\"polarity\"] = sentiment_analysis[\"polarity\"]/ TWEET_COUNT"
   ]
  },
  {
   "cell_type": "code",
   "execution_count": 40,
   "id": "2398ef32-c406-4149-89ff-0dc6d27a3c2b",
   "metadata": {},
   "outputs": [],
   "source": [
    "def plot_chart(search_query):\n",
    "    labels = ['Positive [' + str(sentiment_analysis[\"positive\"]) + '%]', 'Neutral [' + str(sentiment_analysis[\"neutral\"]) + '%]', 'Negative [' + str(sentiment_analysis[\"negative\"]) + '%]']\n",
    "    sizes = [sentiment_analysis[\"positive\"], sentiment_analysis[\"neutral\"], sentiment_analysis[\"negative\"]]\n",
    "    colors = ['yellowgreen', 'gold', 'red']\n",
    "    patches, texts = plt.pie(sizes, colors=colors, startangle=90)\n",
    "    plt.legend(patches, labels, loc=\"best\")\n",
    "    plt.title('People reaction on ' + str(search_query)+ ' by analyzing ' + str(TWEET_COUNT) + ' Tweets.')\n",
    "    plt.axis('equal')\n",
    "    plt.tight_layout()\n",
    "    plt.show()\n"
   ]
  },
  {
   "cell_type": "code",
   "execution_count": 41,
   "id": "d529e8f2-2695-4b3c-8849-59745597cb67",
   "metadata": {},
   "outputs": [
    {
     "data": {
      "image/png": "[encoded data removed]",
      "text/plain": [
       "<Figure size 432x288 with 1 Axes>"
      ]
     },
     "metadata": {},
     "output_type": "display_data"
    }
   ],
   "source": [
    "if __name__ == \"__main__\":\n",
    "    initialize()\n",
    "    refresh_sentiment_analysis()\n",
    "    search_query = refine_search_query(\"Air Pollution AND Tesla\")\n",
    "    analyze_tweets(search_query)\n",
    "    generate_report()\n",
    "    plot_chart(search_query)\n"
   ]
  },
  {
   "cell_type": "markdown",
   "id": "d90498db-110d-4265-9df6-5cf503ff33d1",
   "metadata": {},
   "source": [
    "#### Todos\n",
    "\n",
    "- [ ] Iterate over a list of companies\n",
    "- [ ] Construct a base query\n",
    "- [ ] Perform sentiment analysis"
   ]
  },
  {
   "cell_type": "code",
   "execution_count": null,
   "id": "dd39fa7e-e5a9-4d8b-b983-fd15b93ebc8d",
   "metadata": {},
   "outputs": [],
   "source": [
    "#### Factors to consider\n",
    "- [ ] "
   ]
  },
  {
   "cell_type": "code",
   "execution_count": null,
   "id": "28eb828b-cc5e-48b7-9041-110dd984ff46",
   "metadata": {},
   "outputs": [],
   "source": []
  }
 ],
 "metadata": {
  "kernelspec": {
   "display_name": "Python 3",
   "language": "python",
   "name": "python3"
  },
  "language_info": {
   "codemirror_mode": {
    "name": "ipython",
    "version": 3
   },
   "file_extension": ".py",
   "mimetype": "text/x-python",
   "name": "python",
   "nbconvert_exporter": "python",
   "pygments_lexer": "ipython3",
   "version": "3.9.3"
  }
 },
 "nbformat": 4,
 "nbformat_minor": 5
}
